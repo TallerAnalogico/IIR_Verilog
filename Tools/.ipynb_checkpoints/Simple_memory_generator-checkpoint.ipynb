{
 "cells": [
  {
   "cell_type": "code",
   "execution_count": 43,
   "metadata": {},
   "outputs": [],
   "source": [
    "import numpy as np\n",
    "import pandas as pd\n",
    "import csv\n",
    "from fxpmath import Fxp\n",
    "import matplotlib.pyplot as plt\n"
   ]
  },
  {
   "cell_type": "code",
   "execution_count": 2,
   "metadata": {},
   "outputs": [
    {
     "data": {
      "text/plain": [
       "'11111111111111001100000000000000'"
      ]
     },
     "execution_count": 2,
     "metadata": {},
     "output_type": "execute_result"
    }
   ],
   "source": [
    "x = Fxp(-3.25, True, 32, 16)\n",
    "x.bin()"
   ]
  },
  {
   "cell_type": "code",
   "execution_count": 9,
   "metadata": {},
   "outputs": [],
   "source": [
    "def multisimToMemory(input_filename, \n",
    "                     output_filename=\"out.txt\", \n",
    "                     nsamples=10000,\n",
    "                     channel='Y--Trace 1::[Channel A]'):\n",
    "    df = pd.read_csv(input_filename)\n",
    "    df=df.iloc[:nsamples]\n",
    "    result=[]\n",
    "    for n in df[channel]:\n",
    "        result.append(Fxp(n, True, 32, 16).bin())\n",
    "        \n",
    "    file = open(output_filename,\"w\") \n",
    "    file.write(\"\\n\".join(result)) \n",
    "    file.close()"
   ]
  },
  {
   "cell_type": "code",
   "execution_count": 10,
   "metadata": {},
   "outputs": [],
   "source": [
    "multisimToMemory(\n",
    "                input_filename=\"datos_multisim/Sallen-Key 10kHz.csv\",\n",
    "                output_filename=\"in_ram.txt\",\n",
    "                nsamples=1000)"
   ]
  },
  {
   "cell_type": "code",
   "execution_count": 11,
   "metadata": {},
   "outputs": [
    {
     "data": {
      "text/plain": [
       "'00000000000000011000000000000000'"
      ]
     },
     "execution_count": 11,
     "metadata": {},
     "output_type": "execute_result"
    }
   ],
   "source": [
    "x = Fxp(1.5, True, 32, 16)\n",
    "x.bin()"
   ]
  },
  {
   "cell_type": "code",
   "execution_count": 249,
   "metadata": {},
   "outputs": [
    {
     "data": {
      "text/plain": [
       "'11111111111111101100000000000000'"
      ]
     },
     "execution_count": 249,
     "metadata": {},
     "output_type": "execute_result"
    }
   ],
   "source": [
    "x = Fxp(-1.25, True, 32, 16)\n",
    "x.bin()"
   ]
  },
  {
   "cell_type": "code",
   "execution_count": 13,
   "metadata": {},
   "outputs": [
    {
     "data": {
      "text/plain": [
       "32"
      ]
     },
     "execution_count": 13,
     "metadata": {},
     "output_type": "execute_result"
    }
   ],
   "source": [
    "len('11111111111111001100000000000000')"
   ]
  },
  {
   "cell_type": "code",
   "execution_count": 14,
   "metadata": {},
   "outputs": [
    {
     "data": {
      "text/plain": [
       "32"
      ]
     },
     "execution_count": 14,
     "metadata": {},
     "output_type": "execute_result"
    }
   ],
   "source": [
    "len(\"11111111111111001100000000000000\")"
   ]
  },
  {
   "cell_type": "code",
   "execution_count": 23,
   "metadata": {},
   "outputs": [
    {
     "data": {
      "text/plain": [
       "11111111111111100100000000000000"
      ]
     },
     "execution_count": 23,
     "metadata": {},
     "output_type": "execute_result"
    }
   ],
   "source": [
    "11111111111111100100000000000000"
   ]
  },
  {
   "cell_type": "code",
   "execution_count": 106,
   "metadata": {},
   "outputs": [],
   "source": [
    "x = Fxp('0b11111111111111001100000000000000', True, 32, 16)\n"
   ]
  },
  {
   "cell_type": "code",
   "execution_count": 107,
   "metadata": {},
   "outputs": [
    {
     "data": {
      "text/plain": [
       "-3.25"
      ]
     },
     "execution_count": 107,
     "metadata": {},
     "output_type": "execute_result"
    }
   ],
   "source": [
    "x.real"
   ]
  },
  {
   "cell_type": "code",
   "execution_count": 15,
   "metadata": {},
   "outputs": [
    {
     "data": {
      "text/plain": [
       "'00000000000000010000000000000000'"
      ]
     },
     "execution_count": 15,
     "metadata": {},
     "output_type": "execute_result"
    }
   ],
   "source": [
    "x = Fxp(1, True, 32, 16)\n",
    "x.bin()"
   ]
  },
  {
   "cell_type": "code",
   "execution_count": null,
   "metadata": {},
   "outputs": [],
   "source": []
  },
  {
   "cell_type": "code",
   "execution_count": null,
   "metadata": {},
   "outputs": [],
   "source": []
  },
  {
   "cell_type": "code",
   "execution_count": 34,
   "metadata": {},
   "outputs": [],
   "source": [
    "def arrayToMemory(array_in, \n",
    "                     output_filename=\"out.txt\"):\n",
    "    result=[]\n",
    "    for n in array_in:\n",
    "        result.append(Fxp(n, True, 32, 16).bin())\n",
    "    file = open(output_filename,\"w\") \n",
    "    file.write(\"\\n\".join(result)) \n",
    "    file.close()"
   ]
  },
  {
   "cell_type": "code",
   "execution_count": 35,
   "metadata": {},
   "outputs": [],
   "source": [
    "arrayToMemory(signal,\"generado_20k.txt\")"
   ]
  },
  {
   "cell_type": "code",
   "execution_count": 38,
   "metadata": {},
   "outputs": [
    {
     "data": {
      "text/plain": [
       "array([ 0.00000000e+00, -3.21624530e-16,  6.43249060e-16, ...,\n",
       "        1.11457973e-12, -6.24126804e-12,  1.13679563e-11])"
      ]
     },
     "execution_count": 38,
     "metadata": {},
     "output_type": "execute_result"
    }
   ],
   "source": []
  },
  {
   "cell_type": "code",
   "execution_count": 42,
   "metadata": {},
   "outputs": [
    {
     "data": {
      "text/plain": [
       "0.0"
      ]
     },
     "execution_count": 42,
     "metadata": {},
     "output_type": "execute_result"
    }
   ],
   "source": []
  },
  {
   "cell_type": "code",
   "execution_count": 133,
   "metadata": {},
   "outputs": [
    {
     "data": {
      "image/png": "[encoded data removed]",
      "text/plain": [
       "<Figure size 432x288 with 1 Axes>"
      ]
     },
     "metadata": {
      "needs_background": "light"
     },
     "output_type": "display_data"
    }
   ],
   "source": [
    "t=100e-3\n",
    "sf=40e3*2*np.pi\n",
    "freq=2e3\n",
    "\n",
    "\n",
    "x = np.arange(0,t*sf)*(1/sf)\n",
    "y = np.sin(x*freq*2*np.pi)\n",
    "\n",
    "\n",
    "plt.title(\"Matplotlib demo\") \n",
    "plt.xlabel(\"x axis caption\") \n",
    "plt.ylabel(\"y axis caption\") \n",
    "plt.plot(x,y) \n",
    "plt.show()\n"
   ]
  },
  {
   "cell_type": "code",
   "execution_count": 91,
   "metadata": {},
   "outputs": [],
   "source": [
    "arrayToMemory(y,\"generado_2k.txt\")"
   ]
  },
  {
   "cell_type": "code",
   "execution_count": null,
   "metadata": {},
   "outputs": [],
   "source": []
  },
  {
   "cell_type": "code",
   "execution_count": 215,
   "metadata": {},
   "outputs": [],
   "source": [
    "def readMem(filename, sample_freq=2e3):\n",
    "    with open(filename) as f:\n",
    "        content = f.readlines()\n",
    "    content = [Fxp(x.strip(), True, 32, 16).real  for x in content[2:]] \n",
    "    x = np.arange(0,len(content))*(1/sample_freq)\n",
    "    return (x,np.array(content))\n",
    "              "
   ]
  },
  {
   "cell_type": "code",
   "execution_count": 265,
   "metadata": {},
   "outputs": [
    {
     "name": "stdout",
     "output_type": "stream",
     "text": [
      "00000000000000000011001100110011\n",
      "11111111111111111100110011001101\n"
     ]
    }
   ],
   "source": [
    "print(Fxp(0.2, True, 32, 16).bin())\n",
    "print(Fxp(-0.2, True, 32, 16).bin())"
   ]
  },
  {
   "cell_type": "code",
   "execution_count": 250,
   "metadata": {},
   "outputs": [
    {
     "data": {
      "text/plain": [
       "-2.5"
      ]
     },
     "execution_count": 250,
     "metadata": {},
     "output_type": "execute_result"
    }
   ],
   "source": [
    "Fxp('32b11111111111111011000000000000000', True, 32, 16)"
   ]
  },
  {
   "cell_type": "code",
   "execution_count": 245,
   "metadata": {},
   "outputs": [
    {
     "data": {
      "text/plain": [
       "array([0.        , 0.02497864, 0.0499115 , 0.07470703, 0.09931946,\n",
       "       0.12368774, 0.14775085, 0.17144775, 0.19470215, 0.21746826,\n",
       "       0.23970032, 0.26133728, 0.28231812, 0.30258179, 0.32209778,\n",
       "       0.34080505, 0.3586731 , 0.37562561, 0.3916626 , 0.4066925 ,\n",
       "       0.42073059, 0.43370056, 0.44560242, 0.45637512, 0.46601868])"
      ]
     },
     "execution_count": 245,
     "metadata": {},
     "output_type": "execute_result"
    }
   ],
   "source": [
    "x,y=readMem(\"respuesta 2K.txt\",2e3)\n",
    "y[:25]"
   ]
  },
  {
   "cell_type": "code",
   "execution_count": 246,
   "metadata": {},
   "outputs": [
    {
     "data": {
      "image/png": "[encoded data removed]",
      "text/plain": [
       "<Figure size 432x288 with 1 Axes>"
      ]
     },
     "metadata": {
      "needs_background": "light"
     },
     "output_type": "display_data"
    }
   ],
   "source": [
    "plt.title(\"Matplotlib demo\") \n",
    "plt.xlabel(\"x axis caption\") \n",
    "plt.ylabel(\"y axis caption\") \n",
    "plt.plot(x,y) \n",
    "plt.show()\n",
    "\n"
   ]
  },
  {
   "cell_type": "code",
   "execution_count": 228,
   "metadata": {},
   "outputs": [
    {
     "data": {
      "text/plain": [
       "-0.1999969482421875"
      ]
     },
     "execution_count": 228,
     "metadata": {},
     "output_type": "execute_result"
    }
   ],
   "source": [
    "Fxp(\"32b11111111111111111100110011001101\", True, 32, 16).real"
   ]
  },
  {
   "cell_type": "code",
   "execution_count": 139,
   "metadata": {},
   "outputs": [
    {
     "data": {
      "text/plain": [
       "32"
      ]
     },
     "execution_count": 139,
     "metadata": {},
     "output_type": "execute_result"
    }
   ],
   "source": [
    "len(\"00000000000000000000011001100101\")"
   ]
  },
  {
   "cell_type": "code",
   "execution_count": 272,
   "metadata": {},
   "outputs": [],
   "source": [
    "r1= Fxp('32b11111111111111111111110101110001', True, 32, 16)\n",
    "r2= Fxp('32b11111111111111111111010111000011', True, 32, 16)\n",
    "r3= Fxp('32b11111111111111011000000000000000', True, 32, 16)\n",
    "r4= Fxp('32b00000000000000101000000000000000', True, 32, 16)\n",
    "r5= Fxp('32b00000000000000010100100000101111', True, 32, 16)"
   ]
  },
  {
   "cell_type": "code",
   "execution_count": 273,
   "metadata": {},
   "outputs": [
    {
     "name": "stdout",
     "output_type": "stream",
     "text": [
      "-0.010000000000000002 -0.0099945068359375\n",
      "-0.04000000000000001 -0.0399932861328125\n",
      "-2.5 -2.5\n",
      "2.5 2.5\n",
      "1.282 1.2819671630859375\n"
     ]
    }
   ],
   "source": [
    "print(0.05*-0.2,r1)\n",
    "print(0.2*-0.2,r2)\n",
    "print(5*-0.5,r3)\n",
    "print(5*0.5,r4)\n",
    "print(-5*-0.2564,r5)"
   ]
  },
  {
   "cell_type": "code",
   "execution_count": 271,
   "metadata": {},
   "outputs": [
    {
     "data": {
      "text/plain": [
       "-0.04000000000000001"
      ]
     },
     "execution_count": 271,
     "metadata": {},
     "output_type": "execute_result"
    }
   ],
   "source": [
    "0.2*-0.2"
   ]
  },
  {
   "cell_type": "code",
   "execution_count": null,
   "metadata": {},
   "outputs": [],
   "source": []
  }
 ],
 "metadata": {
  "kernelspec": {
   "display_name": "Python 3",
   "language": "python",
   "name": "python3"
  },
  "language_info": {
   "codemirror_mode": {
    "name": "ipython",
    "version": 3
   },
   "file_extension": ".py",
   "mimetype": "text/x-python",
   "name": "python",
   "nbconvert_exporter": "python",
   "pygments_lexer": "ipython3",
   "version": "3.8.5"
  }
 },
 "nbformat": 4,
 "nbformat_minor": 4
}
