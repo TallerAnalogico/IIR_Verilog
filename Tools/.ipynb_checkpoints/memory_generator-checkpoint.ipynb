{
 "cells": [
  {
   "cell_type": "code",
   "execution_count": 2,
   "metadata": {},
   "outputs": [],
   "source": [
    "from PIL import Image\n",
    "from matplotlib.pyplot import imshow\n",
    "import numpy as np\n",
    "\n",
    "import pandas as pd\n",
    "import csv\n",
    "import matplotlib.pyplot as plt\n",
    "%matplotlib inline"
   ]
  },
  {
   "cell_type": "code",
   "execution_count": null,
   "metadata": {},
   "outputs": [],
   "source": []
  },
  {
   "cell_type": "code",
   "execution_count": null,
   "metadata": {},
   "outputs": [],
   "source": []
  },
  {
   "cell_type": "code",
   "execution_count": null,
   "metadata": {},
   "outputs": [],
   "source": []
  },
  {
   "cell_type": "code",
   "execution_count": null,
   "metadata": {},
   "outputs": [],
   "source": []
  },
  {
   "cell_type": "code",
   "execution_count": null,
   "metadata": {},
   "outputs": [],
   "source": []
  },
  {
   "cell_type": "markdown",
   "metadata": {},
   "source": [
    "|decimal|signo|Parte entera|Parte fraccionaria|\n",
    "|----|-----|----|------|\n",
    "|-1,5|1|111 1110|1000 0000|\n",
    "|3,25|0|000 0011|0100 0000|\n",
    "|1,75|0|000 0001|1100 0000|"
   ]
  },
  {
   "cell_type": "code",
   "execution_count": 3,
   "metadata": {},
   "outputs": [],
   "source": [
    "a=-1,5"
   ]
  },
  {
   "cell_type": "code",
   "execution_count": 4,
   "metadata": {},
   "outputs": [],
   "source": [
    "def toBin(num_i):\n",
    "    signo = num_i<0\n",
    "    num_i = abs(num_i)\n",
    "    entero = int(num_i)\n",
    "    fraccion = num_i - entero\n",
    "    reacomodado = int(1/fraccion)\n",
    "    if (signo):\n",
    "        entero_str =bin(~entero).replace(\"-\",\"\")[2:]\n",
    "    else:\n",
    "        entero_str =\"0\"+bin(entero)[2:]\n",
    "    entero_str = entero_str[0]*(8-len(entero_str))+entero_str\n",
    "    reacomodado_str = bin(reacomodado)[2:][::-2]\n",
    "    reacomodado_str = reacomodado_str + \"0\"*(8-len(reacomodado_str))\n",
    "    print(signo,entero_str,reacomodado_str)\n",
    "    "
   ]
  },
  {
   "cell_type": "code",
   "execution_count": 5,
   "metadata": {},
   "outputs": [
    {
     "name": "stdout",
     "output_type": "stream",
     "text": [
      "False 00000001 10000000\n"
     ]
    }
   ],
   "source": [
    "toBin(1.75)"
   ]
  },
  {
   "cell_type": "code",
   "execution_count": 6,
   "metadata": {},
   "outputs": [
    {
     "name": "stdout",
     "output_type": "stream",
     "text": [
      "1.3333333333333333\n",
      "False 00000001 10000000\n"
     ]
    }
   ],
   "source": [
    "def toBin(num_i):\n",
    "    signo = num_i<0\n",
    "    num_i = abs(num_i)\n",
    "    entero = int(num_i)\n",
    "    fraccion = num_i - entero\n",
    "    reacomodado = int(1/fraccion)\n",
    "    if (signo):\n",
    "        entero_str =bin(~entero).replace(\"-\",\"\")[2:]\n",
    "    else:\n",
    "        entero_str =\"0\"+bin(entero)[2:]\n",
    "    entero_str = entero_str[0]*(8-len(entero_str))+entero_str\n",
    "    reacomodado_str = bin(reacomodado)[2:][::-2]\n",
    "    reacomodado_str = reacomodado_str + \"0\"*(8-len(reacomodado_str))\n",
    "    print(1/fraccion)\n",
    "    print(signo,entero_str,reacomodado_str)\n",
    "toBin(1.75)"
   ]
  },
  {
   "cell_type": "code",
   "execution_count": null,
   "metadata": {},
   "outputs": [],
   "source": []
  },
  {
   "cell_type": "code",
   "execution_count": null,
   "metadata": {},
   "outputs": [],
   "source": []
  },
  {
   "cell_type": "code",
   "execution_count": 7,
   "metadata": {},
   "outputs": [
    {
     "data": {
      "text/plain": [
       "[7, 6, 5, 4, 3, 2, 1, 0]"
      ]
     },
     "execution_count": 7,
     "metadata": {},
     "output_type": "execute_result"
    }
   ],
   "source": [
    "list(range(7,-1,-1))"
   ]
  },
  {
   "cell_type": "code",
   "execution_count": 8,
   "metadata": {},
   "outputs": [],
   "source": [
    "def integerToArray(integer, sign=False,bits=7):\n",
    "    result=[]\n",
    "    for n in range(bits-1,-1,-1):\n",
    "        temp = pow(2,n)\n",
    "        sub_result = int(integer>=temp)\n",
    "        result.append(sub_result)\n",
    "        integer-=(temp*sub_result)\n",
    "    if(sign):\n",
    "        result = [int(not i) for i in result]\n",
    "    return result\n",
    "\n",
    "def fracToArray(frac,bits=8):\n",
    "    result=[]\n",
    "    for n in range(1,9):\n",
    "        temp = pow(2,-n)\n",
    "        sub_result = int(frac>=temp)\n",
    "        result.append(sub_result)\n",
    "        frac-=(temp*sub_result)\n",
    "    return result\n",
    "\n",
    "\n",
    "\n",
    "\n",
    "def floatToFixPoint(num):\n",
    "    sign = int(num<0)\n",
    "    num=abs(num)\n",
    "    integer_part=int(num)\n",
    "    frac_part=num-integer_part\n",
    "    result = [sign]+ integerToArray(integer_part,sign) + fracToArray(frac_part)\n",
    "    return result\n",
    "\n",
    "def floatToFixPointString(num):\n",
    "    result = floatToFixPoint(num)\n",
    "    result = [str(i) for i in result]\n",
    "    result = \"\".join(result)\n",
    "    return result\n",
    "\n",
    "\n",
    "def fixToFloat(fix_list):\n",
    "    result=0\n",
    "    for i, val in enumerate(fix_list[1:]):\n",
    "        result+=val*pow(2,6-i)\n",
    "    if(fix_list[0]): result*=-1\n",
    "    return result\n",
    "\n",
    "def fixStringToFloat(fix_string):\n",
    "    fix_list = [int( i) for i in fix_string]\n",
    "    return fixToFloat(fix_list)"
   ]
  },
  {
   "cell_type": "code",
   "execution_count": 9,
   "metadata": {},
   "outputs": [
    {
     "data": {
      "text/plain": [
       "'0000001101000000'"
      ]
     },
     "execution_count": 9,
     "metadata": {},
     "output_type": "execute_result"
    }
   ],
   "source": [
    "floatToFixPointString(3.25)\n",
    "\n"
   ]
  },
  {
   "cell_type": "code",
   "execution_count": 10,
   "metadata": {},
   "outputs": [
    {
     "name": "stdout",
     "output_type": "stream",
     "text": [
      "0000001101000000\n",
      "1111111010000000\n",
      "0010000011000000\n",
      "0100000000100000\n"
     ]
    }
   ],
   "source": [
    "print(floatToFixPointString(3.25))\n",
    "print(floatToFixPointString(-1.5))\n",
    "print(floatToFixPointString(32.75))\n",
    "print(floatToFixPointString(64.125))"
   ]
  },
  {
   "cell_type": "code",
   "execution_count": 11,
   "metadata": {},
   "outputs": [],
   "source": [
    "data={\"10k\":{},\"20k\":{},\"50k\":{},\"100k\":{}}\n",
    "samples=300;\n",
    "\n",
    "df = pd.read_csv('datos_multisim/Sallen-Key 10kHz.csv')\n",
    "df=df.iloc[:samples]\n",
    "# print (df)\n",
    "data[\"10k\"][\"x1\"]= np.arange(samples)\n",
    "# data[\"10k\"][\"x1\"]= df['X--Trace 1::[Channel A]']\n",
    "data[\"10k\"][\"y1\"]= df['Y--Trace 1::[Channel A]']\n",
    "\n",
    "\n"
   ]
  },
  {
   "cell_type": "code",
   "execution_count": 12,
   "metadata": {},
   "outputs": [],
   "source": [
    "def multisimToMemory(input_filename, \n",
    "                     output_filename=\"out.txt\", \n",
    "                     nsamples=10000,\n",
    "                     channel='Y--Trace 1::[Channel A]'):\n",
    "    df = pd.read_csv(input_filename)\n",
    "    df=df.iloc[:nsamples]\n",
    "    result=[]\n",
    "    for n in df[channel]:\n",
    "        result.append(floatToFixPointString(n))\n",
    "        \n",
    "    file = open(output_filename,\"w\") \n",
    "    file.write(\"\\n\".join(result)) \n",
    "    file.close()"
   ]
  },
  {
   "cell_type": "code",
   "execution_count": 13,
   "metadata": {},
   "outputs": [],
   "source": [
    "multisimToMemory(\n",
    "                input_filename=\"datos_multisim/Sallen-Key 10kHz.csv\",\n",
    "                output_filename=\"outputMEM.txt\",\n",
    "                nsamples=10)"
   ]
  },
  {
   "cell_type": "code",
   "execution_count": 14,
   "metadata": {},
   "outputs": [
    {
     "name": "stdout",
     "output_type": "stream",
     "text": [
      "['0000000000000000\\n', '0000000000000001\\n', '0000000000000010\\n', '0000000000000100\\n', '0000000000001000\\n', '0000000000001101\\n', '0000000000010111\\n', '0000000000100001\\n', '0000000000110010\\n', '0000000001001010']\n"
     ]
    }
   ],
   "source": [
    " with open('outputMEM.txt', 'r') as reader:\n",
    "        print(reader.readlines())"
   ]
  },
  {
   "cell_type": "code",
   "execution_count": 15,
   "metadata": {},
   "outputs": [],
   "source": [
    "df = pd.read_csv('outputMEM.txt',dtype=str, header=None)\n",
    "data = list(df[0])"
   ]
  },
  {
   "cell_type": "code",
   "execution_count": 16,
   "metadata": {},
   "outputs": [
    {
     "name": "stdout",
     "output_type": "stream",
     "text": [
      "[0.0, 0.00390625, 0.0078125, 0.015625, 0.03125, 0.05078125, 0.08984375, 0.12890625, 0.1953125, 0.2890625]\n"
     ]
    }
   ],
   "source": [
    "print([fixStringToFloat(i) for i in data])\n",
    "\n",
    "\n"
   ]
  },
  {
   "cell_type": "code",
   "execution_count": 17,
   "metadata": {},
   "outputs": [
    {
     "ename": "NameError",
     "evalue": "name 'in_str' is not defined",
     "output_type": "error",
     "traceback": [
      "\u001b[0;31m---------------------------------------------------------------------------\u001b[0m",
      "\u001b[0;31mNameError\u001b[0m                                 Traceback (most recent call last)",
      "\u001b[0;32m<ipython-input-17-9a9a071561eb>\u001b[0m in \u001b[0;36m<module>\u001b[0;34m\u001b[0m\n\u001b[0;32m----> 1\u001b[0;31m \u001b[0mresult\u001b[0m \u001b[0;34m=\u001b[0m \u001b[0;34m[\u001b[0m\u001b[0mint\u001b[0m\u001b[0;34m(\u001b[0m \u001b[0mi\u001b[0m\u001b[0;34m)\u001b[0m \u001b[0;32mfor\u001b[0m \u001b[0mi\u001b[0m \u001b[0;32min\u001b[0m \u001b[0min_str\u001b[0m\u001b[0;34m]\u001b[0m\u001b[0;34m\u001b[0m\u001b[0;34m\u001b[0m\u001b[0m\n\u001b[0m\u001b[1;32m      2\u001b[0m \u001b[0;34m\u001b[0m\u001b[0m\n\u001b[1;32m      3\u001b[0m \u001b[0mresult\u001b[0m\u001b[0;34m\u001b[0m\u001b[0;34m\u001b[0m\u001b[0m\n",
      "\u001b[0;31mNameError\u001b[0m: name 'in_str' is not defined"
     ]
    }
   ],
   "source": [
    "result = [int( i) for i in in_str]\n",
    "\n",
    "result"
   ]
  },
  {
   "cell_type": "code",
   "execution_count": 18,
   "metadata": {},
   "outputs": [
    {
     "ename": "NameError",
     "evalue": "name 'result' is not defined",
     "output_type": "error",
     "traceback": [
      "\u001b[0;31m---------------------------------------------------------------------------\u001b[0m",
      "\u001b[0;31mNameError\u001b[0m                                 Traceback (most recent call last)",
      "\u001b[0;32m<ipython-input-18-d757a9a27418>\u001b[0m in \u001b[0;36m<module>\u001b[0;34m\u001b[0m\n\u001b[1;32m      1\u001b[0m \u001b[0mr\u001b[0m\u001b[0;34m=\u001b[0m\u001b[0;36m0\u001b[0m\u001b[0;34m\u001b[0m\u001b[0;34m\u001b[0m\u001b[0m\n\u001b[0;32m----> 2\u001b[0;31m \u001b[0;32mfor\u001b[0m \u001b[0midx\u001b[0m\u001b[0;34m,\u001b[0m \u001b[0mval\u001b[0m \u001b[0;32min\u001b[0m \u001b[0menumerate\u001b[0m\u001b[0;34m(\u001b[0m\u001b[0mresult\u001b[0m\u001b[0;34m[\u001b[0m\u001b[0;36m1\u001b[0m\u001b[0;34m:\u001b[0m\u001b[0;34m]\u001b[0m\u001b[0;34m)\u001b[0m\u001b[0;34m:\u001b[0m\u001b[0;34m\u001b[0m\u001b[0;34m\u001b[0m\u001b[0m\n\u001b[0m\u001b[1;32m      3\u001b[0m     \u001b[0mr\u001b[0m\u001b[0;34m+=\u001b[0m\u001b[0mval\u001b[0m\u001b[0;34m*\u001b[0m\u001b[0mpow\u001b[0m\u001b[0;34m(\u001b[0m\u001b[0;36m2\u001b[0m\u001b[0;34m,\u001b[0m\u001b[0;36m6\u001b[0m\u001b[0;34m-\u001b[0m\u001b[0midx\u001b[0m\u001b[0;34m)\u001b[0m\u001b[0;34m\u001b[0m\u001b[0;34m\u001b[0m\u001b[0m\n\u001b[1;32m      4\u001b[0m     \u001b[0mprint\u001b[0m\u001b[0;34m(\u001b[0m\u001b[0midx\u001b[0m\u001b[0;34m,\u001b[0m \u001b[0mval\u001b[0m\u001b[0;34m)\u001b[0m\u001b[0;34m\u001b[0m\u001b[0;34m\u001b[0m\u001b[0m\n\u001b[1;32m      5\u001b[0m \u001b[0;32mif\u001b[0m\u001b[0;34m(\u001b[0m\u001b[0mresult\u001b[0m\u001b[0;34m[\u001b[0m\u001b[0;36m0\u001b[0m\u001b[0;34m]\u001b[0m\u001b[0;34m)\u001b[0m\u001b[0;34m:\u001b[0m \u001b[0mr\u001b[0m\u001b[0;34m*=\u001b[0m\u001b[0;34m-\u001b[0m\u001b[0;36m1\u001b[0m\u001b[0;34m\u001b[0m\u001b[0;34m\u001b[0m\u001b[0m\n",
      "\u001b[0;31mNameError\u001b[0m: name 'result' is not defined"
     ]
    }
   ],
   "source": [
    "\n",
    "r=0\n",
    "for idx, val in enumerate(result[1:]):\n",
    "    r+=val*pow(2,6-idx)\n",
    "    print(idx, val)\n",
    "if(result[0]): r*=-1\n",
    "r\n"
   ]
  },
  {
   "cell_type": "code",
   "execution_count": null,
   "metadata": {},
   "outputs": [],
   "source": []
  },
  {
   "cell_type": "code",
   "execution_count": 19,
   "metadata": {},
   "outputs": [
    {
     "data": {
      "text/plain": [
       "124.25"
      ]
     },
     "execution_count": 19,
     "metadata": {},
     "output_type": "execute_result"
    }
   ],
   "source": [
    "in_str= floatToFixPointString(124.25)\n",
    "fixStringToFloat(in_str)"
   ]
  },
  {
   "cell_type": "code",
   "execution_count": 20,
   "metadata": {},
   "outputs": [
    {
     "data": {
      "text/html": [
       "<div>\n",
       "<style scoped>\n",
       "    .dataframe tbody tr th:only-of-type {\n",
       "        vertical-align: middle;\n",
       "    }\n",
       "\n",
       "    .dataframe tbody tr th {\n",
       "        vertical-align: top;\n",
       "    }\n",
       "\n",
       "    .dataframe thead th {\n",
       "        text-align: right;\n",
       "    }\n",
       "</style>\n",
       "<table border=\"1\" class=\"dataframe\">\n",
       "  <thead>\n",
       "    <tr style=\"text-align: right;\">\n",
       "      <th></th>\n",
       "      <th>0</th>\n",
       "      <th>casa</th>\n",
       "    </tr>\n",
       "  </thead>\n",
       "  <tbody>\n",
       "    <tr>\n",
       "      <th>0</th>\n",
       "      <td>0000000000000000</td>\n",
       "      <td>439868.5</td>\n",
       "    </tr>\n",
       "    <tr>\n",
       "      <th>1</th>\n",
       "      <td>0000000000000001</td>\n",
       "      <td>439868.5</td>\n",
       "    </tr>\n",
       "    <tr>\n",
       "      <th>2</th>\n",
       "      <td>0000000000000010</td>\n",
       "      <td>439868.5</td>\n",
       "    </tr>\n",
       "    <tr>\n",
       "      <th>3</th>\n",
       "      <td>0000000000000100</td>\n",
       "      <td>439868.5</td>\n",
       "    </tr>\n",
       "    <tr>\n",
       "      <th>4</th>\n",
       "      <td>0000000000001000</td>\n",
       "      <td>439868.5</td>\n",
       "    </tr>\n",
       "    <tr>\n",
       "      <th>5</th>\n",
       "      <td>0000000000001101</td>\n",
       "      <td>439868.5</td>\n",
       "    </tr>\n",
       "    <tr>\n",
       "      <th>6</th>\n",
       "      <td>0000000000010111</td>\n",
       "      <td>439868.5</td>\n",
       "    </tr>\n",
       "    <tr>\n",
       "      <th>7</th>\n",
       "      <td>0000000000100001</td>\n",
       "      <td>439868.5</td>\n",
       "    </tr>\n",
       "    <tr>\n",
       "      <th>8</th>\n",
       "      <td>0000000000110010</td>\n",
       "      <td>439868.5</td>\n",
       "    </tr>\n",
       "    <tr>\n",
       "      <th>9</th>\n",
       "      <td>0000000001001010</td>\n",
       "      <td>439868.5</td>\n",
       "    </tr>\n",
       "  </tbody>\n",
       "</table>\n",
       "</div>"
      ],
      "text/plain": [
       "                  0      casa\n",
       "0  0000000000000000  439868.5\n",
       "1  0000000000000001  439868.5\n",
       "2  0000000000000010  439868.5\n",
       "3  0000000000000100  439868.5\n",
       "4  0000000000001000  439868.5\n",
       "5  0000000000001101  439868.5\n",
       "6  0000000000010111  439868.5\n",
       "7  0000000000100001  439868.5\n",
       "8  0000000000110010  439868.5\n",
       "9  0000000001001010  439868.5"
      ]
     },
     "execution_count": 20,
     "metadata": {},
     "output_type": "execute_result"
    }
   ],
   "source": [
    "df[\"casa\"] = fixStringToFloat(df[0])\n",
    "df"
   ]
  },
  {
   "cell_type": "code",
   "execution_count": 21,
   "metadata": {},
   "outputs": [
    {
     "data": {
      "text/html": [
       "<div>\n",
       "<style scoped>\n",
       "    .dataframe tbody tr th:only-of-type {\n",
       "        vertical-align: middle;\n",
       "    }\n",
       "\n",
       "    .dataframe tbody tr th {\n",
       "        vertical-align: top;\n",
       "    }\n",
       "\n",
       "    .dataframe thead th {\n",
       "        text-align: right;\n",
       "    }\n",
       "</style>\n",
       "<table border=\"1\" class=\"dataframe\">\n",
       "  <thead>\n",
       "    <tr style=\"text-align: right;\">\n",
       "      <th></th>\n",
       "      <th>0</th>\n",
       "      <th>casa</th>\n",
       "    </tr>\n",
       "  </thead>\n",
       "  <tbody>\n",
       "    <tr>\n",
       "      <th>0</th>\n",
       "      <td>0000000000000000</td>\n",
       "      <td>-56193137.0</td>\n",
       "    </tr>\n",
       "    <tr>\n",
       "      <th>1</th>\n",
       "      <td>0000000000000001</td>\n",
       "      <td>-56193137.0</td>\n",
       "    </tr>\n",
       "    <tr>\n",
       "      <th>2</th>\n",
       "      <td>0000000000000010</td>\n",
       "      <td>-56193137.0</td>\n",
       "    </tr>\n",
       "    <tr>\n",
       "      <th>3</th>\n",
       "      <td>0000000000000100</td>\n",
       "      <td>-56193137.0</td>\n",
       "    </tr>\n",
       "    <tr>\n",
       "      <th>4</th>\n",
       "      <td>0000000000001000</td>\n",
       "      <td>-56193137.0</td>\n",
       "    </tr>\n",
       "    <tr>\n",
       "      <th>5</th>\n",
       "      <td>0000000000001101</td>\n",
       "      <td>-56193137.0</td>\n",
       "    </tr>\n",
       "    <tr>\n",
       "      <th>6</th>\n",
       "      <td>0000000000010111</td>\n",
       "      <td>-56193137.0</td>\n",
       "    </tr>\n",
       "    <tr>\n",
       "      <th>7</th>\n",
       "      <td>0000000000100001</td>\n",
       "      <td>-56193137.0</td>\n",
       "    </tr>\n",
       "    <tr>\n",
       "      <th>8</th>\n",
       "      <td>0000000000110010</td>\n",
       "      <td>-56193137.0</td>\n",
       "    </tr>\n",
       "    <tr>\n",
       "      <th>9</th>\n",
       "      <td>0000000001001010</td>\n",
       "      <td>-56193137.0</td>\n",
       "    </tr>\n",
       "  </tbody>\n",
       "</table>\n",
       "</div>"
      ],
      "text/plain": [
       "                  0        casa\n",
       "0  0000000000000000 -56193137.0\n",
       "1  0000000000000001 -56193137.0\n",
       "2  0000000000000010 -56193137.0\n",
       "3  0000000000000100 -56193137.0\n",
       "4  0000000000001000 -56193137.0\n",
       "5  0000000000001101 -56193137.0\n",
       "6  0000000000010111 -56193137.0\n",
       "7  0000000000100001 -56193137.0\n",
       "8  0000000000110010 -56193137.0\n",
       "9  0000000001001010 -56193137.0"
      ]
     },
     "execution_count": 21,
     "metadata": {},
     "output_type": "execute_result"
    }
   ],
   "source": [
    "df.apply(lambda x: fixStringToFloat(x) if x.name == \"casa\" else x)"
   ]
  },
  {
   "cell_type": "code",
   "execution_count": 22,
   "metadata": {},
   "outputs": [
    {
     "data": {
      "text/plain": [
       "0.08984375"
      ]
     },
     "execution_count": 22,
     "metadata": {},
     "output_type": "execute_result"
    }
   ],
   "source": [
    "fixStringToFloat(\"0000000000010111\")"
   ]
  },
  {
   "cell_type": "code",
   "execution_count": null,
   "metadata": {},
   "outputs": [],
   "source": []
  },
  {
   "cell_type": "code",
   "execution_count": 23,
   "metadata": {},
   "outputs": [],
   "source": [
    "def twos_complement(input_value: int, num_bits: int) -> int:\n",
    "    \"\"\"Calculates a two's complement integer from the given input value's bits.\"\"\"\n",
    "    mask = 2 ** (num_bits - 1)\n",
    "    return -(input_value & mask) + (input_value & ~mask)\n"
   ]
  },
  {
   "cell_type": "code",
   "execution_count": 31,
   "metadata": {},
   "outputs": [
    {
     "data": {
      "text/plain": [
       "20"
      ]
     },
     "execution_count": 31,
     "metadata": {},
     "output_type": "execute_result"
    }
   ],
   "source": [
    "twos_complement(20,8)"
   ]
  },
  {
   "cell_type": "code",
   "execution_count": 33,
   "metadata": {},
   "outputs": [
    {
     "data": {
      "text/plain": [
       "'0b1111101'"
      ]
     },
     "execution_count": 33,
     "metadata": {},
     "output_type": "execute_result"
    }
   ],
   "source": [
    "bin(-3 & 0b1111111)"
   ]
  },
  {
   "cell_type": "code",
   "execution_count": 34,
   "metadata": {},
   "outputs": [
    {
     "ename": "SyntaxError",
     "evalue": "unexpected EOF while parsing (<ipython-input-34-8911c7e2c878>, line 2)",
     "output_type": "error",
     "traceback": [
      "\u001b[0;36m  File \u001b[0;32m\"<ipython-input-34-8911c7e2c878>\"\u001b[0;36m, line \u001b[0;32m2\u001b[0m\n\u001b[0;31m    \u001b[0m\n\u001b[0m    ^\u001b[0m\n\u001b[0;31mSyntaxError\u001b[0m\u001b[0;31m:\u001b[0m unexpected EOF while parsing\n"
     ]
    }
   ],
   "source": [
    "def intToBin(num:int):\n",
    "    "
   ]
  },
  {
   "cell_type": "code",
   "execution_count": null,
   "metadata": {},
   "outputs": [],
   "source": []
  },
  {
   "cell_type": "code",
   "execution_count": 36,
   "metadata": {},
   "outputs": [
    {
     "data": {
      "text/plain": [
       "127"
      ]
     },
     "execution_count": 36,
     "metadata": {},
     "output_type": "execute_result"
    }
   ],
   "source": [
    "0b1111111"
   ]
  },
  {
   "cell_type": "code",
   "execution_count": 37,
   "metadata": {},
   "outputs": [
    {
     "data": {
      "text/plain": [
       "127.0"
      ]
     },
     "execution_count": 37,
     "metadata": {},
     "output_type": "execute_result"
    }
   ],
   "source": [
    "0b1111111"
   ]
  },
  {
   "cell_type": "code",
   "execution_count": 44,
   "metadata": {},
   "outputs": [
    {
     "data": {
      "text/plain": [
       "'0b1111101'"
      ]
     },
     "execution_count": 44,
     "metadata": {},
     "output_type": "execute_result"
    }
   ],
   "source": [
    "bin(-3 & 0b1111111)"
   ]
  },
  {
   "cell_type": "code",
   "execution_count": 173,
   "metadata": {},
   "outputs": [],
   "source": [
    "def fracToArray(frac):\n",
    "    result=[]\n",
    "    for n in range(1,17):\n",
    "        temp = pow(2,-n)\n",
    "        sub_result = int(frac>=temp)\n",
    "        result.append(sub_result)\n",
    "        frac-=(temp*sub_result)\n",
    "    return result\n",
    "\n",
    "def fracToBinString(frac):\n",
    "    result = fracToArray(frac)\n",
    "    result = [str(i) for i in result]\n",
    "    result = \"\".join(result)\n",
    "    return result\n",
    "\n",
    "def integerToBinString(integer):\n",
    "    result = bin(integer & 0b111111111111111)\n",
    "    result = result[2:]\n",
    "    extra=\"1\"\n",
    "    if (integer>=0):\n",
    "        extra=\"0\"*(16-len(result))\n",
    "    return extra+result\n",
    "\n",
    "\n",
    "def numToFixPoint(num):\n",
    "    integer=integerToBinString(int(num))\n",
    "    frac=fracToBinString(abs(num-int(num)))\n",
    "    return integer+frac\n",
    "\n",
    "def fixToFloat(fix_list):\n",
    "    result=0\n",
    "    integer=0\n",
    "    for i, val in enumerate(fix_list[1:16]):\n",
    "        integer+=val*pow(2,14-i)\n",
    "    frac=0    \n",
    "    for i, val in enumerate(fix_list[16:]):\n",
    "        frac+=val*pow(2,-(i+1))\n",
    "    if(fix_list[0]): \n",
    "        result=twos_complement(integer,15)-frac\n",
    "    else:\n",
    "        result=integer+frac\n",
    "    return result\n",
    "\n",
    "def fixStringToFloat(fix_string):\n",
    "    fix_list = [int( i) for i in fix_string]\n",
    "    return fixToFloat(fix_list)\n",
    "\n",
    "\n",
    "def twos_complement(input_value: int, num_bits: int) -> int:\n",
    "    \"\"\"Calculates a two's complement integer from the given input value's bits.\"\"\"\n",
    "    mask = 2 ** (num_bits - 1)\n",
    "    return -(input_value & mask) + (input_value & ~mask)\n"
   ]
  },
  {
   "cell_type": "code",
   "execution_count": 175,
   "metadata": {},
   "outputs": [
    {
     "data": {
      "text/plain": [
       "-40.274993896484375"
      ]
     },
     "execution_count": 175,
     "metadata": {},
     "output_type": "execute_result"
    }
   ],
   "source": [
    "fixStringToFloat(numToFixPoint(-40.275))"
   ]
  },
  {
   "cell_type": "code",
   "execution_count": null,
   "metadata": {},
   "outputs": [],
   "source": []
  },
  {
   "cell_type": "code",
   "execution_count": 137,
   "metadata": {},
   "outputs": [
    {
     "data": {
      "text/plain": [
       "14"
      ]
     },
     "execution_count": 137,
     "metadata": {},
     "output_type": "execute_result"
    }
   ],
   "source": []
  },
  {
   "cell_type": "code",
   "execution_count": 133,
   "metadata": {},
   "outputs": [
    {
     "data": {
      "text/plain": [
       "32"
      ]
     },
     "execution_count": 133,
     "metadata": {},
     "output_type": "execute_result"
    }
   ],
   "source": [
    "len('11111111111111101100000000000000')"
   ]
  },
  {
   "cell_type": "code",
   "execution_count": 67,
   "metadata": {},
   "outputs": [
    {
     "ename": "SyntaxError",
     "evalue": "EOL while scanning string literal (<ipython-input-67-12e3f1080e96>, line 1)",
     "output_type": "error",
     "traceback": [
      "\u001b[0;36m  File \u001b[0;32m\"<ipython-input-67-12e3f1080e96>\"\u001b[0;36m, line \u001b[0;32m1\u001b[0m\n\u001b[0;31m    b'1111111111010110\u001b[0m\n\u001b[0m                      ^\u001b[0m\n\u001b[0;31mSyntaxError\u001b[0m\u001b[0;31m:\u001b[0m EOL while scanning string literal\n"
     ]
    }
   ],
   "source": [
    "b'1111111111010110"
   ]
  },
  {
   "cell_type": "code",
   "execution_count": 70,
   "metadata": {},
   "outputs": [
    {
     "data": {
      "text/plain": [
       "32726"
      ]
     },
     "execution_count": 70,
     "metadata": {},
     "output_type": "execute_result"
    }
   ],
   "source": [
    "int('111111111010110', 2)"
   ]
  },
  {
   "cell_type": "code",
   "execution_count": null,
   "metadata": {},
   "outputs": [],
   "source": []
  }
 ],
 "metadata": {
  "kernelspec": {
   "display_name": "Python 3",
   "language": "python",
   "name": "python3"
  },
  "language_info": {
   "codemirror_mode": {
    "name": "ipython",
    "version": 3
   },
   "file_extension": ".py",
   "mimetype": "text/x-python",
   "name": "python",
   "nbconvert_exporter": "python",
   "pygments_lexer": "ipython3",
   "version": "3.8.5"
  }
 },
 "nbformat": 4,
 "nbformat_minor": 4
}
